{
 "cells": [
  {
   "cell_type": "code",
   "execution_count": 2,
   "id": "diagnostic-halifax",
   "metadata": {},
   "outputs": [
    {
     "name": "stdout",
     "output_type": "stream",
     "text": [
      "comp turn: Snake(s) water(w) or Gun(g)?\n",
      "Your Turn: Snake(s) water(w) or Gun(g)?w\n",
      "Computer chose s\n",
      "You chose w\n",
      "you Lose..!\n"
     ]
    }
   ],
   "source": [
    "import random\n",
    "\n",
    "def gameWin(comp, you):\n",
    "    # If two values are equal, declare a tie!\n",
    "    if comp == you:\n",
    "        return None\n",
    "    \n",
    "    # Check for all possibilites when computer chose s\n",
    "    elif comp =='s':\n",
    "        if you =='w':\n",
    "            return False\n",
    "        elif you == 'g':\n",
    "            return True\n",
    "        \n",
    "     # Check for all possibilites when computer chose w       \n",
    "    elif comp =='w':\n",
    "        if you =='g':\n",
    "            return False\n",
    "        elif you == 's':\n",
    "            return True\n",
    "        \n",
    "    # Check for all possibilites when computer chose g    \n",
    "    elif comp =='g':\n",
    "        if you =='s':\n",
    "            return False\n",
    "        elif you == 'w':\n",
    "            return True\n",
    "    \n",
    "print(\"comp turn: Snake(s) water(w) or Gun(g)?\")\n",
    "randNo = random.randint(1, 3)\n",
    "if randNo == 1:\n",
    "    comp = 's'\n",
    "elif randNo == 2:\n",
    "    comp = 'w'\n",
    "elif randNo == 3:\n",
    "    comp = 'g'\n",
    "    \n",
    "you = input(\"Your Turn: Snake(s) water(w) or Gun(g)?\")\n",
    "a = gameWin(comp, you)\n",
    "\n",
    "print(f\"Computer chose {comp}\")\n",
    "print(f\"You chose {you}\")\n",
    "\n",
    "if a == None:\n",
    "    print(\"the game is a tie..!\")\n",
    "elif a:\n",
    "    print(\"you Win..!\")\n",
    "else:\n",
    "    print(\"you Lose..!\")"
   ]
  },
  {
   "cell_type": "code",
   "execution_count": null,
   "id": "declared-poison",
   "metadata": {},
   "outputs": [],
   "source": []
  },
  {
   "cell_type": "code",
   "execution_count": null,
   "id": "colored-procurement",
   "metadata": {},
   "outputs": [],
   "source": []
  }
 ],
 "metadata": {
  "interpreter": {
   "hash": "728244e749e5e7710043c62741b72d1b3440f3a3b257faad317b82ea617af0b6"
  },
  "kernelspec": {
   "display_name": "Python 3",
   "language": "python",
   "name": "python3"
  },
  "language_info": {
   "codemirror_mode": {
    "name": "ipython",
    "version": 3
   },
   "file_extension": ".py",
   "mimetype": "text/x-python",
   "name": "python",
   "nbconvert_exporter": "python",
   "pygments_lexer": "ipython3",
   "version": "3.9.2"
  }
 },
 "nbformat": 4,
 "nbformat_minor": 5
}
